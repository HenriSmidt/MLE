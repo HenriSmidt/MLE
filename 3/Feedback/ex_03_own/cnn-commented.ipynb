{
 "cells": [
  {
   "attachments": {},
   "cell_type": "markdown",
   "metadata": {},
   "source": [
    "# 1 Introduction"
   ]
  },
  {
   "attachments": {},
   "cell_type": "markdown",
   "metadata": {},
   "source": [
    "First we going to copy the code from the exercise sheet and are going to edit it to allow for GPU training and testing"
   ]
  },
  {
   "cell_type": "code",
   "execution_count": 33,
   "metadata": {},
   "outputs": [
    {
     "name": "stdout",
     "output_type": "stream",
     "text": [
      "Cuda available: True\n",
      "Downloading http://yann.lecun.com/exdb/mnist/train-images-idx3-ubyte.gz\n",
      "Downloading http://yann.lecun.com/exdb/mnist/train-images-idx3-ubyte.gz to ./MNIST\\raw\\train-images-idx3-ubyte.gz\n"
     ]
    },
    {
     "name": "stderr",
     "output_type": "stream",
     "text": [
      "100.0%\n"
     ]
    },
    {
     "name": "stdout",
     "output_type": "stream",
     "text": [
      "Extracting ./MNIST\\raw\\train-images-idx3-ubyte.gz to ./MNIST\\raw\n"
     ]
    },
    {
     "name": "stderr",
     "output_type": "stream",
     "text": [
      "100.0%"
     ]
    },
    {
     "name": "stdout",
     "output_type": "stream",
     "text": [
      "\n",
      "Downloading http://yann.lecun.com/exdb/mnist/train-labels-idx1-ubyte.gz\n",
      "Downloading http://yann.lecun.com/exdb/mnist/train-labels-idx1-ubyte.gz to ./MNIST\\raw\\train-labels-idx1-ubyte.gz\n",
      "Extracting ./MNIST\\raw\\train-labels-idx1-ubyte.gz to ./MNIST\\raw\n",
      "\n",
      "Downloading http://yann.lecun.com/exdb/mnist/t10k-images-idx3-ubyte.gz\n",
      "Downloading http://yann.lecun.com/exdb/mnist/t10k-images-idx3-ubyte.gz to ./MNIST\\raw\\t10k-images-idx3-ubyte.gz\n"
     ]
    },
    {
     "name": "stderr",
     "output_type": "stream",
     "text": [
      "\n",
      "100.0%\n",
      "100.0%\n"
     ]
    },
    {
     "name": "stdout",
     "output_type": "stream",
     "text": [
      "Extracting ./MNIST\\raw\\t10k-images-idx3-ubyte.gz to ./MNIST\\raw\n",
      "\n",
      "Downloading http://yann.lecun.com/exdb/mnist/t10k-labels-idx1-ubyte.gz\n",
      "Downloading http://yann.lecun.com/exdb/mnist/t10k-labels-idx1-ubyte.gz to ./MNIST\\raw\\t10k-labels-idx1-ubyte.gz\n",
      "Extracting ./MNIST\\raw\\t10k-labels-idx1-ubyte.gz to ./MNIST\\raw\n",
      "\n"
     ]
    }
   ],
   "source": [
    "import numpy as np\n",
    "import matplotlib.pyplot as plt\n",
    "\n",
    "import torch\n",
    "import torch.optim as optim\n",
    "from torch.utils.data import DataLoader\n",
    "\n",
    "import torchvision.datasets as datasets\n",
    "import torchvision.transforms as transforms\n",
    "\n",
    "from torch.nn.functional import conv2d, max_pool2d, cross_entropy\n",
    "\n",
    "#set device for potential GPU training\n",
    "device = torch.device(\"cuda\" if torch.cuda.is_available() else \"cpu\")\n",
    "print(\"Cuda available: {}\".format(torch.cuda.is_available()))\n",
    "\n",
    "plt.rc(\"figure\", dpi=100)\n",
    "\n",
    "batch_size = 100\n",
    "\n",
    "# transform images into normalized tensors\n",
    "transform = transforms.Compose([\n",
    "    transforms.ToTensor(),\n",
    "    transforms.Normalize(mean=(0.5,), std=(0.5,))\n",
    "])\n",
    "\n",
    "train_dataset = datasets.MNIST(\n",
    "    \"./\",\n",
    "    download=True,\n",
    "    train=True,\n",
    "    transform=transform,\n",
    ")\n",
    "\n",
    "test_dataset = datasets.MNIST(\n",
    "    \"./\",\n",
    "    download=True,\n",
    "    train=False,\n",
    "    transform=transform,\n",
    ")\n",
    "\n",
    "train_dataloader = DataLoader(\n",
    "    dataset=train_dataset,\n",
    "    batch_size=batch_size,\n",
    "    shuffle=True,\n",
    "    num_workers=1,\n",
    "    pin_memory=True,\n",
    ")\n",
    "\n",
    "test_dataloader = DataLoader(\n",
    "    dataset=test_dataset,\n",
    "    batch_size=batch_size,\n",
    "    shuffle=False,\n",
    "    num_workers=1,\n",
    "    pin_memory=True,\n",
    ")\n",
    "\n",
    "def init_weights(shape):\n",
    "    # Kaiming He initialization (a good initialization is important)\n",
    "    # https://arxiv.org/abs/1502.01852\n",
    "    std = np.sqrt(2. / shape[0])\n",
    "    w = torch.randn(size=shape) * std\n",
    "    # move variable to GPU\n",
    "    w = w.to(device)\n",
    "    w.requires_grad = True\n",
    "    return w\n",
    "\n",
    "\n",
    "def rectify(x):\n",
    "    # Rectified Linear Unit (ReLU)\n",
    "    return torch.max(torch.zeros_like(x), x)\n",
    "\n",
    "\n",
    "class RMSprop(optim.Optimizer):\n",
    "    \"\"\"\n",
    "    This is a reduced version of the PyTorch internal RMSprop optimizer\n",
    "    It serves here as an example\n",
    "    \"\"\"\n",
    "    def __init__(self, params, lr=1e-3, alpha=0.5, eps=1e-8):\n",
    "        defaults = dict(lr=lr, alpha=alpha, eps=eps)\n",
    "        super(RMSprop, self).__init__(params, defaults)\n",
    "\n",
    "    def step(self):\n",
    "        for group in self.param_groups:\n",
    "            for p in group['params']:\n",
    "                grad = p.grad.data\n",
    "                state = self.state[p]\n",
    "\n",
    "                # state initialization\n",
    "                if len(state) == 0:\n",
    "                    state['square_avg'] = torch.zeros_like(p.data)\n",
    "\n",
    "                square_avg = state['square_avg']\n",
    "                alpha = group['alpha']\n",
    "\n",
    "                # update running averages\n",
    "                square_avg.mul_(alpha).addcmul_(grad, grad, value=1 - alpha)\n",
    "                avg = square_avg.sqrt().add_(group['eps'])\n",
    "\n",
    "                # gradient update\n",
    "                p.data.addcdiv_(grad, avg, value=-group['lr'])"
   ]
  },
  {
   "cell_type": "code",
   "execution_count": 34,
   "metadata": {},
   "outputs": [
    {
     "name": "stdout",
     "output_type": "stream",
     "text": [
      "Epoch: 0\n",
      "Mean Train Loss: 3.93e-01\n",
      "Mean Test Loss:  1.81e-01\n",
      "Epoch: 10\n",
      "Mean Train Loss: 1.50e-01\n",
      "Mean Test Loss:  2.48e-01\n",
      "Epoch: 20\n",
      "Mean Train Loss: 1.02e-01\n",
      "Mean Test Loss:  4.01e-01\n",
      "Epoch: 30\n",
      "Mean Train Loss: 8.79e-02\n",
      "Mean Test Loss:  4.63e-01\n",
      "Epoch: 40\n",
      "Mean Train Loss: 4.16e-02\n",
      "Mean Test Loss:  6.06e-01\n",
      "Epoch: 50\n",
      "Mean Train Loss: 3.63e-02\n",
      "Mean Test Loss:  6.33e-01\n",
      "Epoch: 60\n",
      "Mean Train Loss: 3.40e-02\n",
      "Mean Test Loss:  1.03e+00\n",
      "Epoch: 70\n",
      "Mean Train Loss: 3.10e-02\n",
      "Mean Test Loss:  8.84e-01\n",
      "Epoch: 80\n",
      "Mean Train Loss: 1.79e-02\n",
      "Mean Test Loss:  9.77e-01\n",
      "Epoch: 90\n",
      "Mean Train Loss: 1.11e-02\n",
      "Mean Test Loss:  8.56e-01\n",
      "Epoch: 100\n",
      "Mean Train Loss: 1.12e-02\n",
      "Mean Test Loss:  9.18e-01\n"
     ]
    },
    {
     "data": {
      "text/plain": [
       "<matplotlib.legend.Legend at 0x2812892a3d0>"
      ]
     },
     "execution_count": 34,
     "metadata": {},
     "output_type": "execute_result"
    },
    {
     "data": {
      "image/png": "[encoded data removed]",
      "text/plain": [
       "<Figure size 600x400 with 1 Axes>"
      ]
     },
     "metadata": {
      "needs_background": "light"
     },
     "output_type": "display_data"
    }
   ],
   "source": [
    "# define the neural network\n",
    "def model(x, w_h, w_h2, w_o):\n",
    "    h = rectify(x @ w_h)\n",
    "    h2 = rectify(h @ w_h2)\n",
    "    pre_softmax = h2 @ w_o\n",
    "    return pre_softmax\n",
    "\n",
    "\n",
    "# initialize weights\n",
    "\n",
    "# input shape is (B, 784)\n",
    "w_h = init_weights((784, 625))\n",
    "# hidden layer with 625 neurons\n",
    "w_h2 = init_weights((625, 625))\n",
    "# hidden layer with 625 neurons\n",
    "w_o = init_weights((625, 10))\n",
    "# output shape is (B, 10)\n",
    "\n",
    "optimizer = RMSprop(params=[w_h, w_h2, w_o])\n",
    "\n",
    "\n",
    "n_epochs = 100\n",
    "\n",
    "train_loss = []\n",
    "test_loss = []\n",
    "\n",
    "# put this into a training loop over 100 epochs\n",
    "for epoch in range(n_epochs + 1):\n",
    "    train_loss_this_epoch = []\n",
    "    for idx, batch in enumerate(train_dataloader):\n",
    "        x, y = batch\n",
    "\n",
    "        # Move data to the GPU device\n",
    "        x = x.to(device)\n",
    "        y = y.to(device)\n",
    "\n",
    "        # our model requires flattened input\n",
    "        x = x.reshape(batch_size, 784)\n",
    "        # feed input through model\n",
    "        noise_py_x = model(x, w_h, w_h2, w_o)\n",
    "\n",
    "        # reset the gradient\n",
    "        optimizer.zero_grad()\n",
    "\n",
    "        # the cross-entropy loss function already contains the softmax\n",
    "        loss = cross_entropy(noise_py_x, y, reduction=\"mean\")\n",
    "\n",
    "        train_loss_this_epoch.append(float(loss))\n",
    "\n",
    "        # compute the gradient\n",
    "        loss.backward()\n",
    "        # update weights\n",
    "        optimizer.step()\n",
    "\n",
    "    train_loss.append(np.mean(train_loss_this_epoch))\n",
    "\n",
    "    # test periodically\n",
    "    if epoch % 10 == 0:\n",
    "        print(f\"Epoch: {epoch}\")\n",
    "        print(f\"Mean Train Loss: {train_loss[-1]:.2e}\")\n",
    "        test_loss_this_epoch = []\n",
    "\n",
    "        # no need to compute gradients for validation\n",
    "        with torch.no_grad():\n",
    "            for idx, batch in enumerate(test_dataloader):\n",
    "                x, y = batch\n",
    "\n",
    "                # Move data to the GPU device\n",
    "                x = x.to(device)\n",
    "                y = y.to(device)\n",
    "\n",
    "                x = x.reshape(batch_size, 784)\n",
    "                noise_py_x = model(x, w_h, w_h2, w_o)\n",
    "\n",
    "                loss = cross_entropy(noise_py_x, y, reduction=\"mean\")\n",
    "                test_loss_this_epoch.append(float(loss))\n",
    "\n",
    "        test_loss.append(np.mean(test_loss_this_epoch))\n",
    "\n",
    "        print(f\"Mean Test Loss:  {test_loss[-1]:.2e}\")\n",
    "\n",
    "# Move the model parameters back to the CPU device\n",
    "w_h = w_h.cpu()\n",
    "w_h2 = w_h2.cpu()\n",
    "w_o = w_o.cpu()\n",
    "\n",
    "train_loss = [loss.item() for loss in train_loss]\n",
    "test_loss = [loss.item() for loss in test_loss]\n",
    "\n",
    "plt.plot(np.arange(n_epochs + 1), train_loss, label=\"Train\")\n",
    "plt.plot(np.arange(1, n_epochs + 2, 10), test_loss, label=\"Test\")\n",
    "plt.title(\"Train and Test Loss over Training\")\n",
    "plt.xlabel(\"Epoch\")\n",
    "plt.ylabel(\"Loss\")\n",
    "plt.legend()\n"
   ]
  },
  {
   "attachments": {},
   "cell_type": "markdown",
   "metadata": {},
   "source": [
    "<div style=\"color: green; font-weight: bold\">Comment for above: Same as solution.</div>"
   ]
  },
  {
   "attachments": {},
   "cell_type": "markdown",
   "metadata": {},
   "source": [
    "# 2 Dropout"
   ]
  },
  {
   "cell_type": "code",
   "execution_count": 42,
   "metadata": {},
   "outputs": [],
   "source": [
    "def dropout(X, p_drop=0.5):\n",
    "    if 0 < p_drop < 1:\n",
    "        mask = torch.bernoulli(torch.full(X.shape, 1 - p_drop, device=device))\n",
    "        X_drop = torch.where(mask == 1, torch.zeros_like(X), X) / (1 - p_drop)\n",
    "        return X_drop\n",
    "    else:\n",
    "        return X"
   ]
  },
  {
   "attachments": {},
   "cell_type": "markdown",
   "metadata": {},
   "source": [
    "<div style=\"color: green; font-weight: bold\">Comment for above: Essentially the same. However, the solution throws an error for invalid p.</div>"
   ]
  },
  {
   "cell_type": "code",
   "execution_count": 36,
   "metadata": {},
   "outputs": [],
   "source": [
    "def dropout_model(x, w_h, w_h2, w_o, p_drop_input, p_drop_hidden):\n",
    "    x_drop = dropout(x, p_drop_input)\n",
    "    h = rectify(x_drop @ w_h)\n",
    "    h_drop = dropout(h, p_drop_hidden)\n",
    "    h2 = rectify(h_drop @ w_h2)\n",
    "    h2_drop = dropout(h2, p_drop_hidden)\n",
    "    pre_softmax = h2_drop @ w_o\n",
    "    \n",
    "    return pre_softmax"
   ]
  },
  {
   "attachments": {},
   "cell_type": "markdown",
   "metadata": {},
   "source": [
    "<div style=\"color: green; font-weight: bold\">Comment for above: Same as solution.</div>"
   ]
  },
  {
   "attachments": {},
   "cell_type": "markdown",
   "metadata": {},
   "source": [
    "Task: Explain in a few sentences how the dropout method works and how it reduces overfitting.\n",
    "\n",
    "Answer: During training, dropout randomly sets a fraction of input units or hidden units to zero at each update, effectively \"dropping out\" those units. This prevents the model from relying to heavily on specific input or hidden units, as they are sometimes \"dropped out\". During testing you obviously dont apply dropout. Instead you scale the input units units with the factor of 1-p_drop to compensate for the missing dropout.\n",
    "\n",
    "Task: Why do we need a different model configuration for evaluating the test loss? \n",
    "\n",
    "Answer: During testing you obviously dont apply dropout, as this only leaves out information and simply wouldnt make any sense. Instead you scale the input units units with the factor of 1-p_drop to compensate for the missing dropout.\n"
   ]
  },
  {
   "attachments": {},
   "cell_type": "markdown",
   "metadata": {},
   "source": [
    "<div style=\"color: green; font-weight: bold\">Comment for above: Essentially the same as solution. However I think the solution is missing that the input units should be scaled (depending on the kind of output desired it is not necessary, but i think the default answer should include it, as it doesnt harm). </div>"
   ]
  },
  {
   "cell_type": "code",
   "execution_count": 37,
   "metadata": {},
   "outputs": [],
   "source": [
    "def test_model(x, w_h, w_h2, w_o, p_drop_input, p_drop_hidden):\n",
    "\n",
    "    scaled_x = (1 - p_drop_input) * x\n",
    "    h = rectify(scaled_x @ w_h)\n",
    "    scaled_h = (1 - p_drop_hidden) * h\n",
    "    h2 = rectify(scaled_h @ w_h2)\n",
    "    scaled_h2 = (1 - p_drop_hidden) * h2\n",
    "    pre_softmax = scaled_h2 @ w_o\n",
    "    \n",
    "    return pre_softmax"
   ]
  },
  {
   "cell_type": "code",
   "execution_count": 43,
   "metadata": {},
   "outputs": [
    {
     "name": "stdout",
     "output_type": "stream",
     "text": [
      "Epoch: 0\n",
      "Mean Train Loss: 1.06e+00\n",
      "Mean Test Loss:  4.44e-01\n",
      "Epoch: 10\n",
      "Mean Train Loss: 8.77e-01\n",
      "Mean Test Loss:  2.99e-01\n",
      "Epoch: 20\n",
      "Mean Train Loss: 1.08e+00\n",
      "Mean Test Loss:  3.13e-01\n",
      "Epoch: 30\n",
      "Mean Train Loss: 1.23e+00\n",
      "Mean Test Loss:  3.38e-01\n",
      "Epoch: 40\n",
      "Mean Train Loss: 1.32e+00\n",
      "Mean Test Loss:  3.07e-01\n",
      "Epoch: 50\n",
      "Mean Train Loss: 1.39e+00\n",
      "Mean Test Loss:  2.88e-01\n",
      "Epoch: 60\n",
      "Mean Train Loss: 1.44e+00\n",
      "Mean Test Loss:  3.56e-01\n",
      "Epoch: 70\n",
      "Mean Train Loss: 1.54e+00\n",
      "Mean Test Loss:  3.33e-01\n",
      "Epoch: 80\n",
      "Mean Train Loss: 1.54e+00\n",
      "Mean Test Loss:  3.18e-01\n",
      "Epoch: 90\n",
      "Mean Train Loss: 1.62e+00\n",
      "Mean Test Loss:  3.45e-01\n",
      "Epoch: 100\n",
      "Mean Train Loss: 1.66e+00\n",
      "Mean Test Loss:  3.54e-01\n"
     ]
    },
    {
     "data": {
      "text/plain": [
       "<matplotlib.legend.Legend at 0x28128aa1190>"
      ]
     },
     "execution_count": 43,
     "metadata": {},
     "output_type": "execute_result"
    },
    {
     "data": {
      "image/png": "[encoded data removed]",
      "text/plain": [
       "<Figure size 600x400 with 1 Axes>"
      ]
     },
     "metadata": {
      "needs_background": "light"
     },
     "output_type": "display_data"
    }
   ],
   "source": [
    "# input shape is (B, 784)\n",
    "w_h = init_weights((784, 625))\n",
    "# hidden layer with 625 neurons\n",
    "w_h2 = init_weights((625, 625))\n",
    "# hidden layer with 625 neurons\n",
    "w_o = init_weights((625, 10))\n",
    "# output shape is (B, 10)\n",
    "\n",
    "optimizer = RMSprop(params=[w_h, w_h2, w_o])\n",
    "\n",
    "\n",
    "n_epochs = 100\n",
    "\n",
    "train_loss = []\n",
    "test_loss = []\n",
    "\n",
    "p_drop_input = 0.4\n",
    "p_drop_hidden = 0.4\n",
    "\n",
    "# put this into a training loop over 100 epochs\n",
    "for epoch in range(n_epochs + 1):\n",
    "    train_loss_this_epoch = []\n",
    "    for idx, batch in enumerate(train_dataloader):\n",
    "        x, y = batch\n",
    "\n",
    "        # Move data to the GPU device\n",
    "        x = x.to(device)\n",
    "        y = y.to(device)\n",
    "\n",
    "        # our model requires flattened input\n",
    "        x = x.reshape(batch_size, 784)\n",
    "        # feed input through model\n",
    "        noise_py_x = dropout_model(x, w_h, w_h2, w_o, p_drop_input, p_drop_hidden)\n",
    "\n",
    "        # reset the gradient\n",
    "        optimizer.zero_grad()\n",
    "\n",
    "        # the cross-entropy loss function already contains the softmax\n",
    "        loss = cross_entropy(noise_py_x, y, reduction=\"mean\")\n",
    "\n",
    "        train_loss_this_epoch.append(float(loss))\n",
    "\n",
    "        # compute the gradient\n",
    "        loss.backward()\n",
    "        # update weights\n",
    "        optimizer.step()\n",
    "\n",
    "    train_loss.append(np.mean(train_loss_this_epoch))\n",
    "\n",
    "    # test periodically\n",
    "    if epoch % 10 == 0:\n",
    "        print(f\"Epoch: {epoch}\")\n",
    "        print(f\"Mean Train Loss: {train_loss[-1]:.2e}\")\n",
    "        test_loss_this_epoch = []\n",
    "\n",
    "        # no need to compute gradients for validation\n",
    "        with torch.no_grad():\n",
    "            for idx, batch in enumerate(test_dataloader):\n",
    "                x, y = batch\n",
    "\n",
    "                # Move data to the GPU device\n",
    "                x = x.to(device)\n",
    "                y = y.to(device)\n",
    "\n",
    "                x = x.reshape(batch_size, 784)\n",
    "                noise_py_x = test_model(x, w_h, w_h2, w_o, p_drop_input, p_drop_hidden)\n",
    "\n",
    "                loss = cross_entropy(noise_py_x, y, reduction=\"mean\")\n",
    "                test_loss_this_epoch.append(float(loss))\n",
    "\n",
    "        test_loss.append(np.mean(test_loss_this_epoch))\n",
    "\n",
    "        print(f\"Mean Test Loss:  {test_loss[-1]:.2e}\")\n",
    "# Move the model parameters back to the CPU device\n",
    "w_h = w_h.cpu()\n",
    "w_h2 = w_h2.cpu()\n",
    "w_o = w_o.cpu()\n",
    "\n",
    "train_loss = [loss.item() for loss in train_loss]\n",
    "test_loss = [loss.item() for loss in test_loss]\n",
    "\n",
    "plt.plot(np.arange(n_epochs + 1), train_loss, label=\"Train\")\n",
    "plt.plot(np.arange(1, n_epochs + 2, 10), test_loss, label=\"Test\")\n",
    "plt.title(\"Train and Test Loss over Training\")\n",
    "plt.xlabel(\"Epoch\")\n",
    "plt.ylabel(\"Loss\")\n",
    "plt.legend()"
   ]
  },
  {
   "attachments": {},
   "cell_type": "markdown",
   "metadata": {},
   "source": [
    "Task: Compare the test error with the test error from Section 1.\n",
    "\n",
    "Answer: \n",
    "\n",
    "The training error in Section 1 is continously decreasing, even during the last epochs. However, the test error in Section 1 even increases slightly over time. This is a clear indication that the model overfits on the training data.\n",
    "\n",
    "The training error in the Section with dropout doesnt really converge. The test error decreases slightly over time and is overall better than in the run without the dropout. This is a clear indication, that the model is better than the one from section 1 and does not overfit on the training data."
   ]
  },
  {
   "attachments": {},
   "cell_type": "markdown",
   "metadata": {},
   "source": [
    "<div style=\"color: green; font-weight: bold\">Comment for above: Same as solution.</div>"
   ]
  },
  {
   "attachments": {},
   "cell_type": "markdown",
   "metadata": {},
   "source": [
    "# 3 Parametric Relu"
   ]
  },
  {
   "attachments": {},
   "cell_type": "markdown",
   "metadata": {},
   "source": [
    "First we are going to create a PRelu layer by mapping $X \\rightarrow  PRelu(X)$"
   ]
  },
  {
   "cell_type": "code",
   "execution_count": 29,
   "metadata": {},
   "outputs": [],
   "source": [
    "def PRelu(X,a):\n",
    "    return torch.max(torch.zeros_like(X), X) + a * torch.min(torch.zeros_like(X), X)"
   ]
  },
  {
   "attachments": {},
   "cell_type": "markdown",
   "metadata": {},
   "source": [
    "Now we are going to incorporate the parameter a into the params list and optimize them during training"
   ]
  },
  {
   "cell_type": "code",
   "execution_count": 30,
   "metadata": {},
   "outputs": [
    {
     "name": "stdout",
     "output_type": "stream",
     "text": [
      "Epoch: 0\n",
      "Mean Train Loss: 4.34e-01\n",
      "Mean Test Loss:  1.65e-01\n",
      "Epoch: 10\n",
      "Mean Train Loss: 1.10e-01\n",
      "Mean Test Loss:  2.60e-01\n",
      "Epoch: 20\n",
      "Mean Train Loss: 7.73e-02\n",
      "Mean Test Loss:  2.02e-01\n",
      "Epoch: 30\n",
      "Mean Train Loss: 6.30e-02\n",
      "Mean Test Loss:  3.26e-01\n",
      "Epoch: 40\n",
      "Mean Train Loss: 4.77e-02\n",
      "Mean Test Loss:  3.47e-01\n",
      "Epoch: 50\n",
      "Mean Train Loss: 3.88e-02\n",
      "Mean Test Loss:  3.80e-01\n",
      "Epoch: 60\n",
      "Mean Train Loss: 3.96e-02\n",
      "Mean Test Loss:  4.28e-01\n",
      "Epoch: 70\n",
      "Mean Train Loss: 3.94e-02\n",
      "Mean Test Loss:  4.28e-01\n",
      "Epoch: 80\n",
      "Mean Train Loss: 2.82e-02\n",
      "Mean Test Loss:  4.65e-01\n",
      "Epoch: 90\n",
      "Mean Train Loss: 3.22e-02\n",
      "Mean Test Loss:  4.84e-01\n",
      "Epoch: 100\n",
      "Mean Train Loss: 2.92e-02\n",
      "Mean Test Loss:  4.69e-01\n"
     ]
    },
    {
     "data": {
      "text/plain": [
       "<matplotlib.legend.Legend at 0x281288c4350>"
      ]
     },
     "execution_count": 30,
     "metadata": {},
     "output_type": "execute_result"
    },
    {
     "data": {
      "image/png": "[encoded data removed]",
      "text/plain": [
       "<Figure size 432x288 with 1 Axes>"
      ]
     },
     "metadata": {
      "needs_background": "light"
     },
     "output_type": "display_data"
    }
   ],
   "source": [
    "# define the neural network\n",
    "def model(x, w_h, w_h2, w_o, a):\n",
    "    h = PRelu(x @ w_h, a)\n",
    "    h2 = PRelu(h @ w_h2, a)\n",
    "    pre_softmax = h2 @ w_o\n",
    "    return pre_softmax\n",
    "\n",
    "\n",
    "# initialize weights\n",
    "\n",
    "# input shape is (B, 784)\n",
    "w_h = init_weights((784, 625))\n",
    "# hidden layer with 625 neurons\n",
    "w_h2 = init_weights((625, 625))\n",
    "# hidden layer with 625 neurons\n",
    "w_o = init_weights((625, 10))\n",
    "# output shape is (B, 10)\n",
    "\n",
    "\n",
    "# initialize PRelu parameter a with 0.25 according to paper\n",
    "# http://arxiv.org/pdf/1502.01852.pdf\n",
    "a = torch.tensor([0.25], requires_grad=True, device=device)\n",
    "\n",
    "\n",
    "optimizer = RMSprop(params=[w_h, w_h2, w_o, a])\n",
    "#optimizer = optimizer.to(device)\n",
    "\n",
    "n_epochs = 100\n",
    "\n",
    "train_loss = []\n",
    "test_loss = []\n",
    "\n",
    "# put this into a training loop over 100 epochs\n",
    "for epoch in range(n_epochs + 1):\n",
    "    train_loss_this_epoch = []\n",
    "    for idx, batch in enumerate(train_dataloader):\n",
    "        x, y = batch\n",
    "\n",
    "        # Move data to the GPU device\n",
    "        x = x.to(device)\n",
    "        y = y.to(device)\n",
    "\n",
    "        # our model requires flattened input\n",
    "        x = x.reshape(batch_size, 784)\n",
    "        # feed input through model\n",
    "        noise_py_x = model(x, w_h, w_h2, w_o, a)\n",
    "\n",
    "        # reset the gradient\n",
    "        optimizer.zero_grad()\n",
    "\n",
    "        # the cross-entropy loss function already contains the softmax\n",
    "        loss = cross_entropy(noise_py_x, y, reduction=\"mean\")\n",
    "\n",
    "        train_loss_this_epoch.append(float(loss))\n",
    "\n",
    "        # compute the gradient\n",
    "        loss.backward()\n",
    "        # update weights\n",
    "        optimizer.step()\n",
    "\n",
    "    train_loss.append(np.mean(train_loss_this_epoch))\n",
    "\n",
    "    # test periodically\n",
    "    if epoch % 10 == 0:\n",
    "        print(f\"Epoch: {epoch}\")\n",
    "        print(f\"Mean Train Loss: {train_loss[-1]:.2e}\")\n",
    "        test_loss_this_epoch = []\n",
    "\n",
    "        # no need to compute gradients for validation\n",
    "        with torch.no_grad():\n",
    "            for idx, batch in enumerate(test_dataloader):\n",
    "                x, y = batch\n",
    "\n",
    "                # Move data to the GPU device\n",
    "                x = x.to(device)\n",
    "                y = y.to(device)\n",
    "\n",
    "                x = x.reshape(batch_size, 784)\n",
    "                noise_py_x = model(x, w_h, w_h2, w_o, a)\n",
    "\n",
    "                loss = cross_entropy(noise_py_x, y, reduction=\"mean\")\n",
    "                test_loss_this_epoch.append(float(loss))\n",
    "\n",
    "        test_loss.append(np.mean(test_loss_this_epoch))\n",
    "\n",
    "        print(f\"Mean Test Loss:  {test_loss[-1]:.2e}\")\n",
    "\n",
    "\n",
    "# Move the model parameters back to the CPU device\n",
    "w_h = w_h.cpu()\n",
    "w_h2 = w_h2.cpu()\n",
    "w_o = w_o.cpu()\n",
    "a = a.cpu()\n",
    "\n",
    "train_loss = [loss.item() for loss in train_loss]\n",
    "test_loss = [loss.item() for loss in test_loss]\n",
    "\n",
    "plt.plot(np.arange(n_epochs + 1), train_loss, label=\"Train\")\n",
    "plt.plot(np.arange(1, n_epochs + 2, 10), test_loss, label=\"Test\")\n",
    "plt.title(\"Train and Test Loss over Training\")\n",
    "plt.xlabel(\"Epoch\")\n",
    "plt.ylabel(\"Loss\")\n",
    "plt.legend()"
   ]
  },
  {
   "attachments": {},
   "cell_type": "markdown",
   "metadata": {},
   "source": [
    "# 4 Convolutional layers"
   ]
  },
  {
   "cell_type": "code",
   "execution_count": 44,
   "metadata": {},
   "outputs": [],
   "source": [
    "def convolution_layer(previous_layer, weightvector, p_drop):\n",
    "    convolutional_layer = rectify(conv2d(previous_layer, weightvector))\n",
    "    \n",
    "    # reduces (2 ,2) window to 1 pixel\n",
    "    subsample_layer = max_pool2d(convolutional_layer, (2, 2))\n",
    "    out_layer = dropout(subsample_layer, p_drop_input)\n",
    "    \n",
    "    return out_layer\n",
    "\n",
    "def model(x, w_conv_1, w_conv_2, w_conv_3, w_h2, w_o, p_drop_input, p_drop_hidden):\n",
    "    #print(x.shape) # [100, 1, 28, 28]\n",
    "    h_conv_1 = convolution_layer(x, w_conv_1, p_drop_input)\n",
    "    #print(h_conv_1.shape) # [100, 32, 12, 12]\n",
    "    h_conv_2 = convolution_layer(h_conv_1, w_conv_2, p_drop_hidden)\n",
    "    #print(h_conv_2.shape) # [100, 64, 4, 4]\n",
    "    h_conv_3 = convolution_layer(h_conv_2, w_conv_3, p_drop_hidden)\n",
    "    #print(h_conv_3.shape)  # [100, 128, 1, 1]\n",
    "    h_conv_3 = h_conv_3.reshape(100, -1)\n",
    "    #print(h_conv_3.shape)  # [100, 128]\n",
    "    h2 = rectify(h_conv_3 @ w_h2)\n",
    "    pre_softmax = h2 @ w_o\n",
    "    return pre_softmax\n",
    "\n",
    "def test_model(x, w_conv_1, w_conv_2, w_conv_3, w_h2, w_o):\n",
    "    #dropout of -1 means no dropout\n",
    "    h_conv_1 = convolution_layer(x, w_conv_1, -1)\n",
    "    h_conv_2 = convolution_layer(h_conv_1, w_conv_2, -1)\n",
    "    h_conv_3 = convolution_layer(h_conv_2, w_conv_3, -1)\n",
    "    h_conv_3 = h_conv_3.reshape(100, -1)\n",
    "\n",
    "    h2 = rectify(h_conv_3 @ w_h2)\n",
    "    pre_softmax = h2 @ w_o\n",
    "    return pre_softmax\n",
    "\n",
    "# initialize weights\n",
    "\n",
    "w_conv_1 = init_weights((32, 1, 5, 5))\n",
    "w_conv_2 = init_weights((64, 32, 5, 5))\n",
    "w_conv_3 = init_weights((128, 64, 2, 2))\n",
    "\n",
    "number_of_output_pixel = 128\n",
    "# hidden layer with 625 neurons\n",
    "w_h2 = init_weights((number_of_output_pixel, 625))\n",
    "# hidden layer with 625 neurons\n",
    "w_o = init_weights((625, 10))\n",
    "# output shape is (B, 10)\n",
    "\n",
    "optimizer = RMSprop(params=[w_conv_1, w_conv_2, w_conv_3, w_h2, w_o])"
   ]
  },
  {
   "cell_type": "code",
   "execution_count": 45,
   "metadata": {},
   "outputs": [
    {
     "name": "stdout",
     "output_type": "stream",
     "text": [
      "Epoch: 0\n",
      "Mean Train Loss: 2.89e+00\n",
      "Mean Test Loss:  1.58e+00\n",
      "Epoch: 10\n",
      "Mean Train Loss: 5.69e-01\n",
      "Mean Test Loss:  5.37e-01\n",
      "Epoch: 20\n",
      "Mean Train Loss: 4.68e-01\n",
      "Mean Test Loss:  4.26e-01\n",
      "Epoch: 30\n",
      "Mean Train Loss: 4.46e-01\n",
      "Mean Test Loss:  4.34e-01\n",
      "Epoch: 40\n",
      "Mean Train Loss: 4.55e-01\n",
      "Mean Test Loss:  3.99e-01\n",
      "Epoch: 50\n",
      "Mean Train Loss: 4.80e-01\n",
      "Mean Test Loss:  4.01e-01\n",
      "Epoch: 60\n",
      "Mean Train Loss: 5.26e-01\n",
      "Mean Test Loss:  4.63e-01\n",
      "Epoch: 70\n",
      "Mean Train Loss: 5.80e-01\n",
      "Mean Test Loss:  4.77e-01\n",
      "Epoch: 80\n",
      "Mean Train Loss: 6.32e-01\n",
      "Mean Test Loss:  5.50e-01\n",
      "Epoch: 90\n",
      "Mean Train Loss: 6.76e-01\n",
      "Mean Test Loss:  5.86e-01\n",
      "Epoch: 100\n",
      "Mean Train Loss: 7.58e-01\n",
      "Mean Test Loss:  6.91e-01\n"
     ]
    },
    {
     "data": {
      "image/png": "[encoded data removed]",
      "text/plain": [
       "<Figure size 600x400 with 1 Axes>"
      ]
     },
     "metadata": {
      "needs_background": "light"
     },
     "output_type": "display_data"
    }
   ],
   "source": [
    "n_epochs = 100\n",
    "p_drop_input = 0.4\n",
    "p_drop_hidden = 0.4\n",
    "train_loss = []\n",
    "test_loss = []\n",
    "\n",
    "# put this into a training loop over 100 epochs\n",
    "for epoch in range(n_epochs + 1):\n",
    "    train_loss_this_epoch = []\n",
    "    for idx, batch in enumerate(train_dataloader):\n",
    "        x, y = batch\n",
    "\n",
    "        # Move data to the GPU device\n",
    "        x = x.to(device)\n",
    "        y = y.to(device)\n",
    "\n",
    "        #print(x.shape)\n",
    "        # our model requires flattened input\n",
    "        #x = x.reshape(batch_size, 784)\n",
    "        # feed input through model\n",
    "        noise_py_x = model(x, w_conv_1, w_conv_2, w_conv_3, w_h2, w_o, p_drop_input, p_drop_hidden)\n",
    "\n",
    "        # reset the gradient\n",
    "        optimizer.zero_grad()\n",
    "\n",
    "        # the cross-entropy loss function already contains the softmax\n",
    "        loss = cross_entropy(noise_py_x, y, reduction=\"mean\")\n",
    "\n",
    "        train_loss_this_epoch.append(float(loss))\n",
    "\n",
    "        # compute the gradient\n",
    "        loss.backward()\n",
    "        # update weights\n",
    "        optimizer.step()\n",
    "\n",
    "    train_loss.append(np.mean(train_loss_this_epoch))\n",
    "\n",
    "    # test periodically\n",
    "    if epoch % 10 == 0:\n",
    "        print(f\"Epoch: {epoch}\")\n",
    "        print(f\"Mean Train Loss: {train_loss[-1]:.2e}\")\n",
    "        test_loss_this_epoch = []\n",
    "\n",
    "        # no need to compute gradients for validation\n",
    "        with torch.no_grad():\n",
    "            for idx, batch in enumerate(test_dataloader):\n",
    "                x, y = batch\n",
    "\n",
    "                # Move data to the GPU device\n",
    "                x = x.to(device)\n",
    "                y = y.to(device)\n",
    "\n",
    "                #x = x.reshape(batch_size, 784)\n",
    "                noise_py_x = test_model(x, w_conv_1, w_conv_2, w_conv_3, w_h2, w_o)\n",
    "\n",
    "                loss = cross_entropy(noise_py_x, y, reduction=\"mean\")\n",
    "                test_loss_this_epoch.append(float(loss))\n",
    "\n",
    "        test_loss.append(np.mean(test_loss_this_epoch))\n",
    "\n",
    "        print(f\"Mean Test Loss:  {test_loss[-1]:.2e}\")\n",
    "\n",
    "plt.plot(np.arange(n_epochs + 1), train_loss, label=\"Train\")\n",
    "plt.plot(np.arange(1, n_epochs + 2, 10), test_loss, label=\"Test\")\n",
    "plt.title(\"Train and Test Loss over Training\")\n",
    "plt.xlabel(\"Epoch\")\n",
    "plt.ylabel(\"Loss\")\n",
    "plt.legend()\n",
    "plt.show()"
   ]
  }
 ],
 "metadata": {
  "kernelspec": {
   "display_name": "ml_homework",
   "language": "python",
   "name": "python3"
  },
  "language_info": {
   "codemirror_mode": {
    "name": "ipython",
    "version": 3
   },
   "file_extension": ".py",
   "mimetype": "text/x-python",
   "name": "python",
   "nbconvert_exporter": "python",
   "pygments_lexer": "ipython3",
   "version": "3.11.3"
  },
  "orig_nbformat": 4
 },
 "nbformat": 4,
 "nbformat_minor": 2
}
