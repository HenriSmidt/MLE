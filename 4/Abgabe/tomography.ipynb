{
 "cells": [
  {
   "attachments": {},
   "cell_type": "markdown",
   "metadata": {},
   "source": [
    "# Exercise 4"
   ]
  },
  {
   "attachments": {},
   "cell_type": "markdown",
   "metadata": {},
   "source": [
    "## 1. Constructing the matrix X\n",
    "\n",
    "In the first step we are going to implemnt the function X = construct_X(M, alphas, Np = None) without any sparse matrix optimizations"
   ]
  },
  {
   "cell_type": "code",
   "execution_count": 1,
   "metadata": {},
   "outputs": [],
   "source": [
    "import numpy as np"
   ]
  },
  {
   "cell_type": "code",
   "execution_count": 2,
   "metadata": {},
   "outputs": [],
   "source": [
    "def construct_X(M, alphas, Np = None):\n",
    "    \"\"\"\n",
    "    Construct a matrix X which describes the setup of a simplyfied\n",
    "    CT scanner after the formular X*beta = y, with beta being a flattend \n",
    "    tomograph and y being a flattened sinogram.\n",
    "    \n",
    "    M = Disired tomograph size D = M x M\n",
    "    alpha = list of measurement angles\n",
    "    Np = optional sensor resolution\n",
    "    \"\"\"\n",
    "\n",
    "    D = M*M\n",
    "    N_o = len(alphas)\n",
    "\n",
    "    # If no resolution is givin a value of sqrt(2)*M is set\n",
    "    if Np == None:\n",
    "        Np = int(np.ceil(np.sqrt(2) * M))\n",
    "\n",
    "    X = np.zeros((Np*N_o, D))\n",
    "    \n",
    "    for i_o, alpha in enumerate(alphas):\n",
    "        # Rotate coordinate\n",
    "        angle = np.deg2rad(alpha)\n",
    "        \n",
    "        for j_a in range(M):\n",
    "            for j_b in range(M):\n",
    "                j = j_a + M * j_b\n",
    "\n",
    "                # Set center as coordinate (0,0)\n",
    "                x = j_a - (M - 1) / 2\n",
    "                y = j_b - (M - 1) / 2\n",
    "\n",
    "                # Rotate sensor \n",
    "                x_rot =  x * np.cos(angle) - y * np.sin(angle)\n",
    "\n",
    "                # Project the tomogram's pixel coordinates on sensor array\n",
    "                sensor_location = (x_rot + (Np - 1) / 2)\n",
    "                ray_intensity = sensor_location - np.floor(sensor_location)\n",
    "                \n",
    "                # Determine the sensor indices influenced by the ray\n",
    "                sensor_index1 = int(np.floor(sensor_location))\n",
    "                sensor_index2 = int(np.ceil(sensor_location))\n",
    "                \n",
    "                # Calculate the weights based on the distance from the center of the bins\n",
    "                if sensor_index1 >= 0 and sensor_index1 < Np:\n",
    "                    X[sensor_index1 + Np * i_o, j] += 1 - ray_intensity\n",
    "                if sensor_index2 >= 0 and sensor_index2 < Np:    \n",
    "                    X[sensor_index2 + Np * i_o, j] += ray_intensity\n",
    "\n",
    "    return X\n"
   ]
  },
  {
   "attachments": {},
   "cell_type": "markdown",
   "metadata": {},
   "source": [
    "## 2. Recovering the image"
   ]
  },
  {
   "cell_type": "code",
   "execution_count": null,
   "metadata": {},
   "outputs": [],
   "source": []
  },
  {
   "attachments": {},
   "cell_type": "markdown",
   "metadata": {},
   "source": [
    "## 3. Minimizing the radiation dose"
   ]
  },
  {
   "cell_type": "code",
   "execution_count": null,
   "metadata": {},
   "outputs": [],
   "source": []
  }
 ],
 "metadata": {
  "kernelspec": {
   "display_name": "ml_homework",
   "language": "python",
   "name": "python3"
  },
  "language_info": {
   "codemirror_mode": {
    "name": "ipython",
    "version": 3
   },
   "file_extension": ".py",
   "mimetype": "text/x-python",
   "name": "python",
   "nbconvert_exporter": "python",
   "pygments_lexer": "ipython3",
   "version": "3.11.3"
  },
  "orig_nbformat": 4
 },
 "nbformat": 4,
 "nbformat_minor": 2
}
