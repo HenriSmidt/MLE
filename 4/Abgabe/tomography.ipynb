{
 "cells": [
  {
   "attachments": {},
   "cell_type": "markdown",
   "metadata": {},
   "source": [
    "# Exercise 4"
   ]
  },
  {
   "attachments": {},
   "cell_type": "markdown",
   "metadata": {},
   "source": [
    "## 1. Constructing the matrix X\n",
    "\n",
    "In the first step we are going to implemnt the function X = construct_X(M, alphas, Np = None) without any sparse matrix optimizations"
   ]
  },
  {
   "cell_type": "code",
   "execution_count": 1,
   "metadata": {},
   "outputs": [],
   "source": [
    "import numpy as np"
   ]
  },
  {
   "cell_type": "code",
   "execution_count": null,
   "metadata": {},
   "outputs": [],
   "source": [
    "def construct_X(M, alphas, Np = None):\n",
    "    \"\"\"\n",
    "    Construct a matrix X which describes the setup of a simplyfied\n",
    "    CT scanner after the formular X*beta = y, with beta being a flattend \n",
    "    tomograph and y being a flattened sinogram.\n",
    "    \n",
    "    M = Disired tomograph size D = M x M\n",
    "    alpha = list of measurement angles\n",
    "    Np = optional sensor resolution\n",
    "    \"\"\"\n",
    "\n",
    "    # If no resolution is givin a value of sqrt(2)*M is set\n",
    "    if Np == None:\n",
    "        Np = int(np.ceil(np.sqrt(2) * M))\n",
    "\n",
    "    X = np.zeros((Np*Np, M*M))\n",
    "    \n",
    "    for alpha in alphas:\n",
    "        # rotate coordinate\n",
    "        alpha_rad = np.deg2rad(alpha)\n",
    "        rotation_matrix = np.array([[np.cos(alpha_rad), -np.sin(alpha_rad)],\n",
    "                                    [np.sin(alpha_rad), np.cos(alpha_rad)]])\n",
    "        \n",
    "        # \n",
    "        for i in range(M):\n",
    "            for j in range(M):\n",
    "                # Rotate pixels coordinate\n",
    "                pixel_coords = np.array([i, j])\n",
    "                rotated_coords = rotation_matrix.dot(pixel_coords)\n",
    "                x_rot, y_rot = rotated_coords\n",
    "\n",
    "                #find intersecting points of ray\n",
    "\n",
    "\n",
    "            \n",
    "                # Determine the bin indices influenced by the ray\n",
    "                bin_index1 = int(np.floor(x_rot + Np / 2))\n",
    "                bin_index2 = int(np.ceil(x_rot + Np / 2))\n",
    "\n",
    "                # Calculate the weights based on the distance from the center of the bins\n",
    "                if bin_index1 >= 0 and bin_index1 < Np:\n",
    "                    X[i_p + Np * i_o, j] += (1 - (x_rot + Np / 2) % 1) * (bin_index2 - bin_index1)\n",
    "                if bin_index2 >= 0 and bin_index2 < Np:\n",
    "                    X[i_p + Np * i_o, j] += ((x_rot + Np / 2) % 1) * (bin_index2 - bin_index1)\n",
    "\n",
    "\n",
    "\n",
    "    return X\n"
   ]
  },
  {
   "attachments": {},
   "cell_type": "markdown",
   "metadata": {},
   "source": [
    "## 2. Recovering the image"
   ]
  },
  {
   "cell_type": "code",
   "execution_count": null,
   "metadata": {},
   "outputs": [],
   "source": []
  },
  {
   "attachments": {},
   "cell_type": "markdown",
   "metadata": {},
   "source": [
    "## 3. Minimizing the radiation dose"
   ]
  },
  {
   "cell_type": "code",
   "execution_count": null,
   "metadata": {},
   "outputs": [],
   "source": []
  }
 ],
 "metadata": {
  "kernelspec": {
   "display_name": "ml_homework",
   "language": "python",
   "name": "python3"
  },
  "language_info": {
   "codemirror_mode": {
    "name": "ipython",
    "version": 3
   },
   "file_extension": ".py",
   "mimetype": "text/x-python",
   "name": "python",
   "nbconvert_exporter": "python",
   "pygments_lexer": "ipython3",
   "version": "3.11.3"
  },
  "orig_nbformat": 4
 },
 "nbformat": 4,
 "nbformat_minor": 2
}
