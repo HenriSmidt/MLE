{
 "cells": [
  {
   "attachments": {},
   "cell_type": "markdown",
   "metadata": {},
   "source": [
    "# Exercise 4"
   ]
  },
  {
   "attachments": {},
   "cell_type": "markdown",
   "metadata": {},
   "source": [
    "## 1. Constructing the matrix X\n",
    "\n",
    "In the first step we are going to implemnt the function X = construct_X(M, alphas, Np = None) naively without any sparse matrix optimizations"
   ]
  },
  {
   "cell_type": "code",
   "execution_count": 5,
   "metadata": {},
   "outputs": [],
   "source": [
    "import numpy as np\n",
    "from scipy.sparse import coo_matrix, csc_matrix\n",
    "import matplotlib.pyplot as plt"
   ]
  },
  {
   "cell_type": "code",
   "execution_count": 2,
   "metadata": {},
   "outputs": [],
   "source": [
    "\n",
    "def construct_X(M, alphas, Np = None):\n",
    "    \"\"\"\n",
    "    Construct a matrix X which describes the setup of a simplyfied\n",
    "    CT scanner after the formular X*beta = y, with beta being a flattend \n",
    "    tomograph and y being a flattened sinogram.\n",
    "    \n",
    "    M = Disired tomograph size D = M x M\n",
    "    alpha = list of measurement angles\n",
    "    Np = optional sensor resolution\n",
    "    \"\"\"\n",
    "\n",
    "    D = M * M\n",
    "    N_o = len(alphas)\n",
    "\n",
    "    # If no resolution is givin a value of sqrt(2)*M is set\n",
    "    if Np == None:\n",
    "        Np = int(np.ceil(np.sqrt(2) * M))\n",
    "\n",
    "    N = Np*N_o\n",
    "\n",
    "    X = np.zeros((N, D))\n",
    "    \n",
    "    for i_o, alpha in enumerate(alphas):\n",
    "        # Rotate coordinate\n",
    "        angle = np.deg2rad(alpha)\n",
    "        \n",
    "        for j_a in range(M):\n",
    "            for j_b in range(M):\n",
    "                j = j_a + M * j_b\n",
    "\n",
    "                # Calculate the coordinate with the center being (0,0)\n",
    "                x = j_a - (M - 1) / 2\n",
    "                y = j_b - (M - 1) / 2\n",
    "\n",
    "                # Rotate pixel coordinates as sensor array angle \n",
    "                x_rot =  x * np.cos(angle) - y * np.sin(angle)\n",
    "\n",
    "                # Project the tomogram's pixel coordinates on sensor array\n",
    "                sensor_location = (x_rot + (Np - 1) / 2)\n",
    "                ray_intensity = sensor_location - np.floor(sensor_location)\n",
    "                \n",
    "                # Determine the sensor indices influenced by the ray\n",
    "                sensor_index1 = int(np.floor(sensor_location))\n",
    "                sensor_index2 = int(np.ceil(sensor_location))\n",
    "                \n",
    "                # Calculate the weights based on the distance from the center of the bins\n",
    "                if sensor_index1 >= 0 and sensor_index1 < Np:\n",
    "                    X[sensor_index1 + Np * i_o, j] += 1 - ray_intensity\n",
    "                if sensor_index2 >= 0 and sensor_index2 < Np:    \n",
    "                    X[sensor_index2 + Np * i_o, j] += ray_intensity\n",
    "\n",
    "    return X\n"
   ]
  },
  {
   "attachments": {},
   "cell_type": "markdown",
   "metadata": {},
   "source": [
    "In the next step we are going to write the function more efficiently by vectorizing it and using sparse matrices"
   ]
  },
  {
   "cell_type": "code",
   "execution_count": 22,
   "metadata": {},
   "outputs": [],
   "source": [
    "\n",
    "def construct_X(M, alphas, Np = None):\n",
    "    \"\"\"\n",
    "    Construct a matrix X which describes the setup of a simplyfied\n",
    "    CT scanner after the formular X*beta = y, with beta being a flattend \n",
    "    tomograph and y being a flattened sinogram.\n",
    "    \n",
    "    M = Disired tomograph size D = M x M\n",
    "    alpha = list of measurement angles\n",
    "    Np = optional sensor resolution\n",
    "    \"\"\"\n",
    "\n",
    "    D = M * M\n",
    "    N_o = len(alphas)\n",
    "\n",
    "    # If no resolution is givin a value of sqrt(2)*M is set\n",
    "    if Np == None:\n",
    "        Np = int(np.ceil(np.sqrt(2) * M))\n",
    "    \n",
    "    N = Np*N_o\n",
    "\n",
    "    i_indices = []\n",
    "    j_indices = []\n",
    "    weights = []\n",
    "    \n",
    "    # Rotate coordinate\n",
    "    alphas = np.deg2rad(alphas)\n",
    "\n",
    "    # Create coordinates of the tomogram's pixel centers       \n",
    "    j_a, j_b = np.meshgrid(range(M), range(M))\n",
    "    j_a = j_a.flatten()\n",
    "    j_b = j_b.flatten()\n",
    "    j = j_a + M * j_b\n",
    "\n",
    "\n",
    "    # Calculate the y coordinate with the center being (0,0)\n",
    "    x = j_a - (M - 1) * 0.5\n",
    "    y = j_b - (M - 1) * 0.5\n",
    "\n",
    "    for i_o, alpha in enumerate(alphas):\n",
    "\n",
    "        # Rotate pixel coordinates as sensor array angle\n",
    "        x_rot =  x * np.cos(alpha) - y * np.sin(alpha)\n",
    "\n",
    "        # Project the tomogram's pixel coordinates on sensor array\n",
    "        sensor_location = (x_rot + (Np - 1) * 0.5)\n",
    "        ray_intensity = sensor_location - np.floor(sensor_location)\n",
    "                \n",
    "        # Determine the sensor indices influenced by the ray\n",
    "        sensor_index1 = np.floor(sensor_location).astype(int)\n",
    "        sensor_index2 = np.ceil(sensor_location).astype(int)\n",
    "\n",
    "        # Test if indices are valid\n",
    "        valid_indices1 = np.logical_and(sensor_index1 >= 0, sensor_index1 < Np)\n",
    "        valid_indices2 = np.logical_and(sensor_index2 >= 0, sensor_index2 < Np)\n",
    "                \n",
    "        i_indices.extend(np.where(valid_indices1, sensor_index1 + Np * i_o, 0))\n",
    "        j_indices.extend(np.where(valid_indices1, j.flatten(), 0))\n",
    "        weights.extend(np.where(valid_indices1, 1 - ray_intensity, 0))\n",
    "\n",
    "        i_indices.extend(np.where(valid_indices2, sensor_index2 + Np * i_o, 0))\n",
    "        j_indices.extend(np.where(valid_indices2, j.flatten(), 0))\n",
    "        weights.extend(np.where(valid_indices2, ray_intensity, 0))\n",
    "                    \n",
    "    \n",
    "    X = coo_matrix((weights, (i_indices, j_indices)), shape=(N, D), dtype=np.float32)\n",
    "\n",
    "    return X\n"
   ]
  },
  {
   "attachments": {},
   "cell_type": "markdown",
   "metadata": {},
   "source": [
    "Lets check if the matix construction works"
   ]
  },
  {
   "cell_type": "code",
   "execution_count": 23,
   "metadata": {},
   "outputs": [
    {
     "data": {
      "text/plain": [
       "<matplotlib.image.AxesImage at 0x2939e005ed0>"
      ]
     },
     "execution_count": 23,
     "metadata": {},
     "output_type": "execute_result"
    },
    {
     "data": {
      "image/png": "[encoded data removed]",
      "text/plain": [
       "<Figure size 432x288 with 1 Axes>"
      ]
     },
     "metadata": {
      "needs_background": "light"
     },
     "output_type": "display_data"
    }
   ],
   "source": [
    "X=construct_X(10, [-33, 1, 42])\n",
    "# convert X to dense matrix for visualization\n",
    "X = X.toarray()\n",
    "plt.imshow(X)\n"
   ]
  },
  {
   "attachments": {},
   "cell_type": "markdown",
   "metadata": {},
   "source": [
    "Now we compare it to the given example"
   ]
  },
  {
   "cell_type": "code",
   "execution_count": 24,
   "metadata": {},
   "outputs": [
    {
     "data": {
      "text/plain": [
       "<matplotlib.image.AxesImage at 0x2939e07a810>"
      ]
     },
     "execution_count": 24,
     "metadata": {},
     "output_type": "execute_result"
    },
    {
     "data": {
      "image/png": "[encoded data removed]",
      "text/plain": [
       "<Figure size 432x288 with 1 Axes>"
      ]
     },
     "metadata": {
      "needs_background": "light"
     },
     "output_type": "display_data"
    }
   ],
   "source": [
    "X_ref = np.load('hs_tomography/X_example.npy')\n",
    "plt.imshow(X_ref)"
   ]
  },
  {
   "attachments": {},
   "cell_type": "markdown",
   "metadata": {},
   "source": [
    "We see, the algorithm works and the two solutions are equal!"
   ]
  },
  {
   "attachments": {},
   "cell_type": "markdown",
   "metadata": {},
   "source": [
    "## 2. Recovering the image"
   ]
  },
  {
   "cell_type": "code",
   "execution_count": null,
   "metadata": {},
   "outputs": [],
   "source": []
  },
  {
   "attachments": {},
   "cell_type": "markdown",
   "metadata": {},
   "source": [
    "## 3. Minimizing the radiation dose"
   ]
  },
  {
   "cell_type": "code",
   "execution_count": null,
   "metadata": {},
   "outputs": [],
   "source": []
  }
 ],
 "metadata": {
  "kernelspec": {
   "display_name": "ml_homework",
   "language": "python",
   "name": "python3"
  },
  "language_info": {
   "codemirror_mode": {
    "name": "ipython",
    "version": 3
   },
   "file_extension": ".py",
   "mimetype": "text/x-python",
   "name": "python",
   "nbconvert_exporter": "python",
   "pygments_lexer": "ipython3",
   "version": "3.11.3"
  },
  "orig_nbformat": 4
 },
 "nbformat": 4,
 "nbformat_minor": 2
}
