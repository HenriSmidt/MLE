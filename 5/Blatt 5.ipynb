{
 "cells": [
  {
   "cell_type": "markdown",
   "metadata": {},
   "source": [
    "# 1"
   ]
  },
  {
   "cell_type": "markdown",
   "metadata": {},
   "source": [
    "From the lecture we know:\n",
    "$$\\hat \\beta_\\tau = S^{-1}_\\tau X^T y$$"
   ]
  },
  {
   "cell_type": "markdown",
   "metadata": {},
   "source": [
    "using $E[y] = X \\beta^*$ we get for the expectation:\n",
    "$$E[\\hat \\beta_\\tau] = E[S_\\tau^{-1} X^T y] = S_\\tau^{-1} X^T E[y] = S_\\tau^{-1} X^T X \\beta^* = S_\\tau^{-1} S \\beta^*$$"
   ]
  },
  {
   "cell_type": "markdown",
   "metadata": {},
   "source": [
    "for the covariance we use $\\mathrm{Cov}[AY] = A \\mathrm{Cov}[Y] A^T$:\n",
    "$$\\mathrm{Cov}[\\hat \\beta_\\tau] = \\mathrm{Cov}[S_\\tau^{-1} X^T y] = S_\\tau^{-1} X^T \\mathrm{Cov}[y] X S_\\tau^{-1}\n",
    "= \\sigma^2 S_\\tau^{-1} X^T X S_\\tau^{-1} = S_\\tau^{-1} S S_\\tau^{-1} \\sigma^2$$\n",
    "\n",
    "with $\\mathrm{Cov}[y] = \\mathrm{Cov}[\\epsilon] = \\sigma^2$"
   ]
  },
  {
   "cell_type": "markdown",
   "metadata": {},
   "source": []
  },
  {
   "cell_type": "code",
   "execution_count": null,
   "metadata": {},
   "outputs": [],
   "source": []
  }
 ],
 "metadata": {
  "kernelspec": {
   "display_name": "Python 3",
   "language": "python",
   "name": "python3"
  },
  "language_info": {
   "codemirror_mode": {
    "name": "ipython",
    "version": 3
   },
   "file_extension": ".py",
   "mimetype": "text/x-python",
   "name": "python",
   "nbconvert_exporter": "python",
   "pygments_lexer": "ipython3",
   "version": "3.7.4"
  }
 },
 "nbformat": 4,
 "nbformat_minor": 2
}
